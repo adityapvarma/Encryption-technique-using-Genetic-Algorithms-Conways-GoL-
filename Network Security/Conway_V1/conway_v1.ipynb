{
 "cells": [
  {
   "cell_type": "code",
   "execution_count": null,
   "metadata": {},
   "outputs": [],
   "source": [
    "#Conways Game V1"
   ]
  },
  {
   "cell_type": "code",
   "execution_count": null,
   "metadata": {},
   "outputs": [],
   "source": [
    "from copy import deepcopy"
   ]
  },
  {
   "cell_type": "code",
   "execution_count": null,
   "metadata": {},
   "outputs": [],
   "source": [
    "def con_epoch(mat):\n",
    "    temp=deepcopy(mat)\n",
    "    for i in range(len(mat)):\n",
    "        for j in range(len(mat[0])):\n",
    "            neigh=get_neigh(mat,(i,j))\n",
    "            #print(i,\" \",j,\" \",neigh)\n",
    "            temp[i][j]=stat(neigh)\n",
    "            \"\"\"\n",
    "            print(\"Check\")\n",
    "            for k in mat:\n",
    "                print(k)\n",
    "            \n",
    "            print(\"\\n\")\n",
    "            \"\"\"\n",
    "    \n",
    "    return temp"
   ]
  },
  {
   "cell_type": "code",
   "execution_count": null,
   "metadata": {},
   "outputs": [],
   "source": [
    "def stat(neigh):\n",
    "    ct=neigh.count(1)\n",
    "    #print(ct)\n",
    "    \n",
    "    if ct>3:\n",
    "        return 0\n",
    "    elif ct in [2,3]:\n",
    "        return 1\n",
    "    else:\n",
    "        return 0\n",
    "    "
   ]
  },
  {
   "cell_type": "code",
   "execution_count": null,
   "metadata": {},
   "outputs": [],
   "source": [
    "def get_neigh(mat,ind):\n",
    "    l=[(ind[0]+i,ind[1]+j) for i in range(-1,2) for j in range (-1,2)]\n",
    "    lt=[]\n",
    "    l.pop(l.index(ind))\n",
    "    for i in l:\n",
    "        if i[0] in range(len(mat)) and i[1] in range(len(mat[0])):\n",
    "            lt.append(i)\n",
    "    #print(lt)\n",
    "    ltp=[mat[i[0]][i[1]] for i in lt]\n",
    "    return ltp\n",
    "    "
   ]
  },
  {
   "cell_type": "code",
   "execution_count": null,
   "metadata": {},
   "outputs": [],
   "source": [
    "a=[[1,2,3],[4,5,6],[7,8,9]]\n",
    "print(get_neigh(a,(2,0)))"
   ]
  },
  {
   "cell_type": "code",
   "execution_count": null,
   "metadata": {},
   "outputs": [],
   "source": [
    "for i in range(len(a)):\n",
    "    for j in range(len(a[i])):\n",
    "        temp=get_neigh(a,(i,j))\n",
    "        print(\"Neighbour of \",a[i][j],\" : \",temp)"
   ]
  },
  {
   "cell_type": "code",
   "execution_count": null,
   "metadata": {},
   "outputs": [],
   "source": [
    "l1=[\n",
    "    [1,1,0],\n",
    "    [0,1,0],\n",
    "    [0,0,1]]\n",
    "\n",
    "print(\"Starting Condition\")\n",
    "for i in l1:\n",
    "    print(i)\n",
    "print(\"\")\n",
    "\n",
    "cp=deepcopy(l1)\n",
    "\n",
    "while True:\n",
    "    cp=con_epoch(cp)\n",
    "    for i in cp:\n",
    "        print(i)\n",
    "\n",
    "    a=input()\n",
    "    \n",
    "    "
   ]
  },
  {
   "cell_type": "code",
   "execution_count": null,
   "metadata": {},
   "outputs": [],
   "source": []
  }
 ],
 "metadata": {
  "kernelspec": {
   "display_name": "Python 3",
   "language": "python",
   "name": "python3"
  },
  "language_info": {
   "codemirror_mode": {
    "name": "ipython",
    "version": 3
   },
   "file_extension": ".py",
   "mimetype": "text/x-python",
   "name": "python",
   "nbconvert_exporter": "python",
   "pygments_lexer": "ipython3",
   "version": "3.5.2"
  }
 },
 "nbformat": 4,
 "nbformat_minor": 2
}
